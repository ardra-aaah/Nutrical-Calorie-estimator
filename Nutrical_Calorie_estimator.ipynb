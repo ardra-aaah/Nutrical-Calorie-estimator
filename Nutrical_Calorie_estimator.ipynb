{
  "nbformat": 4,
  "nbformat_minor": 0,
  "metadata": {
    "colab": {
      "provenance": [],
      "authorship_tag": "ABX9TyMwuuzCUYNGxPWyq3YYtX4e",
      "include_colab_link": true
    },
    "kernelspec": {
      "name": "python3",
      "display_name": "Python 3"
    },
    "language_info": {
      "name": "python"
    }
  },
  "cells": [
    {
      "cell_type": "markdown",
      "metadata": {
        "id": "view-in-github",
        "colab_type": "text"
      },
      "source": [
        "<a href=\"https://colab.research.google.com/github/ardra-aaah/Nutrical-Calorie-estimator/blob/main/Nutrical_Calorie_estimator.ipynb\" target=\"_parent\"><img src=\"https://colab.research.google.com/assets/colab-badge.svg\" alt=\"Open In Colab\"/></a>"
      ]
    },
    {
      "cell_type": "markdown",
      "source": [
        "**NutriCal — An Interactive Calorie Composition Estimator for your meals.**\n",
        "\n",
        "---\n",
        "\n",
        "\n",
        "**Description**\n",
        "\n",
        "\n",
        "NutriCalc is a user-friendly web application that estimates the nutritional content and calorie count of meals based on natural language input. Users simply enter their meal ingredients and quantities, and NutriCalc parses the input to provide instant calorie, protein, carb, and fat estimates, along with visual insights to promote healthier eating habits.\n",
        "\n",
        "---\n",
        "**Tools Used**\n",
        "\n",
        "---\n",
        "\n",
        "\n",
        "Python for core programming\n",
        "\n",
        "Streamlit for building the interactive web interface\n",
        "\n",
        "Ngrok to expose the app publicly from local/Colab environment\n",
        "\n",
        "Basic NLP & Rule-based Parsing for extracting quantities and food items from user input\n",
        "\n",
        "\n",
        "---\n",
        "\n",
        "**Future Enhancements**  \n",
        "1. AI-powered Ingredient Parsing\n",
        "Use NLP models (e.g., spaCy or BERT) to understand natural phrases like “a slice of bread” or “half a banana” and extract structured data more accurately.\n",
        "\n",
        "2. Database-backed Ingredient Matching\n",
        "Connect to a large food database like USDA FoodData Central or Nutritionix API for thousands of ingredients with precise nutritional values.\n",
        "\n",
        "3. Voice or Image Input Support\n",
        "Add voice-to-text or food image upload to estimate meal contents using speech recognition or computer vision.\n",
        "\n",
        "4. User History & Daily Goals\n",
        "Enable user logins to track daily intake, generate nutrition reports, and suggest improvements based on dietary goals.\n",
        "\n",
        "5. Mobile App Version\n",
        "Wrap the app with Streamlit Community Cloud or Flutter for mobile deployment with real-time calorie tracking on the go.\n",
        "\n",
        "6. Smart Recommendations\n",
        "Add a calorie recommender system based on the user's meal and suggest healthier alternatives (e.g., swap fried chicken for grilled tofu).\n",
        "\n",
        "\n",
        "\n"
      ],
      "metadata": {
        "id": "0L6LcbzlHsZI"
      }
    },
    {
      "cell_type": "code",
      "source": [
        "#Installing required packages\n",
        "!pip install streamlit pyngrok --quiet\n",
        "!ngrok config add-authtoken 2zVMlt4UbNUngKr8fv4MK8Quep5_w2sEACgGZfmYe9sCuouw\n",
        "\n",
        "#Saving the app.py file\n",
        "app_code = \"\"\"\n",
        "import streamlit as st\n",
        "\n",
        "food_db = {\n",
        "    \"egg\": {\"calories\": 78, \"protein\": 6, \"carbs\": 0.6, \"fat\": 5},\n",
        "    \"rice\": {\"calories\": 205, \"protein\": 4.2, \"carbs\": 45, \"fat\": 0.4},\n",
        "    \"chicken\": {\"calories\": 165, \"protein\": 31, \"carbs\": 0, \"fat\": 3.6},\n",
        "    \"milk\": {\"calories\": 103, \"protein\": 8, \"carbs\": 12, \"fat\": 2.4},\n",
        "    \"banana\": {\"calories\": 105, \"protein\": 1.3, \"carbs\": 27, \"fat\": 0.3},\n",
        "    \"bread\": {\"calories\": 66, \"protein\": 2, \"carbs\": 12, \"fat\": 1}\n",
        "}\n",
        "\n",
        "def parse_meal(meal_text):\n",
        "    items = meal_text.lower().split(\",\")\n",
        "    parsed = []\n",
        "    for item in items:\n",
        "        words = item.strip().split()\n",
        "        qty = 1\n",
        "        for i, word in enumerate(words):\n",
        "            if word.isdigit():\n",
        "                qty = int(word)\n",
        "                words.pop(i)\n",
        "                break\n",
        "        food_name = \" \".join(words).strip()\n",
        "        parsed.append((food_name, qty))\n",
        "    return parsed\n",
        "\n",
        "def estimate_totals(parsed_items):\n",
        "    total = {\"calories\": 0, \"protein\": 0, \"carbs\": 0, \"fat\": 0}\n",
        "    missing = []\n",
        "    for name, qty in parsed_items:\n",
        "        for key in food_db:\n",
        "            if key in name:\n",
        "                food = food_db[key]\n",
        "                for k in total:\n",
        "                    total[k] += food[k] * qty\n",
        "                break\n",
        "        else:\n",
        "            missing.append(name)\n",
        "    return total, missing\n",
        "\n",
        "st.title(\"Calorie Estimator from Meal Description\")\n",
        "\n",
        "meal_input = st.text_area(\"Enter your meal (e.g., '2 eggs, 1 cup rice, grilled chicken')\")\n",
        "\n",
        "if meal_input:\n",
        "    parsed = parse_meal(meal_input)\n",
        "    total, missing = estimate_totals(parsed)\n",
        "\n",
        "    st.subheader(\"Estimated Nutrition:\")\n",
        "    st.markdown(f\"**Calories:** {total['calories']} kcal\")\n",
        "    st.markdown(f\"**Protein:** {total['protein']} g\")\n",
        "    st.markdown(f\"**Carbs:** {total['carbs']} g\")\n",
        "    st.markdown(f\"**Fat:** {total['fat']} g\")\n",
        "\n",
        "    st.subheader(\"Macronutrient Breakdown\")\n",
        "    st.bar_chart({\n",
        "        \"Macros\": [\"Protein\", \"Carbs\", \"Fat\"],\n",
        "        \"Grams\": [total[\"protein\"], total[\"carbs\"], total[\"fat\"]]\n",
        "    })\n",
        "\n",
        "    if missing:\n",
        "        st.warning(\"Could not recognise these ingredients: \" + \", \".join(missing))\n",
        "\"\"\"\n",
        "\n",
        "with open(\"app.py\", \"w\") as f:\n",
        "    f.write(app_code)\n",
        "\n"
      ],
      "metadata": {
        "colab": {
          "base_uri": "https://localhost:8080/"
        },
        "id": "annzfWjJHtI5",
        "outputId": "5f9aea09-00a0-4cb0-b51d-26d38c235f53"
      },
      "execution_count": 12,
      "outputs": [
        {
          "output_type": "stream",
          "name": "stdout",
          "text": [
            "Authtoken saved to configuration file: /root/.config/ngrok/ngrok.yml\n"
          ]
        }
      ]
    },
    {
      "cell_type": "code",
      "source": [
        "#Starting Streamlit app and exposing it via ngrok\n",
        "from pyngrok import ngrok\n",
        "import time\n",
        "\n",
        "#Killing any existing Streamlit processes\n",
        "!pkill streamlit\n",
        "\n",
        "#Setting up tunnel\n",
        "public_url = ngrok.connect(8501, \"http\")\n",
        "\n",
        "print(f\"Your Streamlit app is now running at: {public_url}\")\n",
        "\n",
        "#Starting the Streamlit app\n",
        "!streamlit run app.py &> /dev/null &\n"
      ],
      "metadata": {
        "colab": {
          "base_uri": "https://localhost:8080/"
        },
        "id": "TRqw5UEoI2DJ",
        "outputId": "08186fe9-9e2c-40c2-f175-cfbd9d2a21b8"
      },
      "execution_count": 15,
      "outputs": [
        {
          "output_type": "stream",
          "name": "stdout",
          "text": [
            "Your Streamlit app is now running at: NgrokTunnel: \"https://b4cc-34-121-225-234.ngrok-free.app\" -> \"http://localhost:8501\"\n"
          ]
        }
      ]
    }
  ]
}